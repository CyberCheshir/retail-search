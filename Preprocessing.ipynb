{
 "cells": [
  {
   "cell_type": "markdown",
   "id": "c92408a7",
   "metadata": {},
   "source": [
    "# Подготовка данных\n",
    "\n",
    "<hr>\n",
    "<strong>Требования к предобработк данных:</strong>\n",
    "\n",
    "- убрать конфиденциальную информацию\n",
    "- анонимизировать идентификаторы, использующиеся в системе\n",
    "- нормализовать данные методом min_max \n",
    "- определить координаты населенных пунктов\n",
    "\n",
    "<strong>Предобработка таблиц:<strong>\n",
    "\n",
    "1. [Актуальных магазинов](#actual_market)\n",
    "2. [Продажи по ассортиментам](#assortiment_market)\n",
    "3. [Рознично-торговый оборот](#rto)\n",
    "4. [Продажи алкоголя](#alcohol)"
   ]
  },
  {
   "cell_type": "markdown",
   "id": "ece28ea9",
   "metadata": {},
   "source": [
    "<a id='actual_market'></a>\n",
    "### Обработка Актуальных магазинов"
   ]
  },
  {
   "cell_type": "code",
   "execution_count": 1,
   "id": "e4626404",
   "metadata": {},
   "outputs": [],
   "source": [
    "import pandas as pd\n",
    "from secret_info import API_KEY, MIN, MAX\n",
    "from tqdm import tqdm\n",
    "from dateutil import parser\n",
    "from datetime import datetime\n",
    "import uuid, hashlib\n",
    "import requests\n",
    "from scripts import Id"
   ]
  },
  {
   "cell_type": "markdown",
   "id": "708bf7ce",
   "metadata": {},
   "source": [
    "Создаем класс, который будет хранить словарь идентификаторов в виде словаря\n",
    "Он будет использоваться для  замены sap (id).\n",
    "\n",
    "<code>Id.uuid_dict[454] = '65684580-e0f0-68b0-b407-89a4f9f6b6f8'</code>"
   ]
  },
  {
   "cell_type": "code",
   "execution_count": 2,
   "id": "3668be62",
   "metadata": {},
   "outputs": [],
   "source": [
    "new_id = Id()"
   ]
  },
  {
   "cell_type": "code",
   "execution_count": 3,
   "id": "12d40c4b",
   "metadata": {},
   "outputs": [
    {
     "name": "stdout",
     "output_type": "stream",
     "text": [
      "Количество id:  1586\n"
     ]
    }
   ],
   "source": [
    "df = pd.read_csv('data/1.actual_markets.csv')\n",
    "del df['num_market']\n",
    "\n",
    "new_id.get_uuid(df['sap']) # добавили в словарь новые id с конвертирование в UUID\n",
    "df['sap'] = df['sap'].map(new_id.uuid_dict)\n",
    "new_id.show()"
   ]
  },
  {
   "cell_type": "code",
   "execution_count": 4,
   "id": "a9592f3f",
   "metadata": {},
   "outputs": [],
   "source": [
    "def str_to_bool(value: str) -> str:\n",
    "    \"\"\"да / нет ->  1 / 0\"\"\"\n",
    "    if isinstance(value, str):\n",
    "        value = value.strip().lower()\n",
    "    if value == 'да' or value == 1:\n",
    "        return 1\n",
    "    elif value == 'нет' or value == 0:\n",
    "        return 0\n",
    "    \n",
    "def minmax(x_array, x_min = None, x_max = None):\n",
    "    \"\"\"minmax стандартизация\"\"\"\n",
    "    if any([not x_min, not x_max]):\n",
    "        x_min = x_array.min()\n",
    "        x_max = x_array.max()\n",
    "    \n",
    "    new_array = (x_array - x_min)/(x_max - x_min)\n",
    "    return new_array"
   ]
  },
  {
   "cell_type": "markdown",
   "id": "b67a890b",
   "metadata": {},
   "source": [
    "Нормализуем признаки "
   ]
  },
  {
   "cell_type": "code",
   "execution_count": 5,
   "id": "573ced95",
   "metadata": {},
   "outputs": [],
   "source": [
    "# bool\n",
    "columns = ['night_acceptance','night_display','store_concept','dominators']\n",
    "for col_name in columns:\n",
    "    df[col_name] = df[col_name].map(str_to_bool)\n",
    "    \n",
    "# numeric\n",
    "columns = ['employee','cashier','area','cash_desks','tobacco_shop','universal_assortment']\n",
    "for col_name in columns:\n",
    "    df[col_name] = minmax(df[col_name])"
   ]
  },
  {
   "cell_type": "markdown",
   "id": "05f9c38a",
   "metadata": {},
   "source": [
    "#### Нахождение геолокации\n",
    "\n",
    "У Yandex.Geocoder есть ограничение на кол-во запросов в сутки: не более 1000 запросов.\n",
    "Возьмем уникальные значения и сопоставим через словарь из столбца <code>df.locality</code>, чтобы не повторяться и зря не расходовать трафик. И найдем все интересующие адреса."
   ]
  },
  {
   "cell_type": "code",
   "execution_count": 6,
   "id": "93903f7c",
   "metadata": {},
   "outputs": [
    {
     "name": "stdout",
     "output_type": "stream",
     "text": [
      "Уникальных адресов 360 :\n",
      "\n",
      "Санкт-Петербург\n",
      "Коммунар\n",
      "Тосно\n",
      "Кировск\n",
      "Сестрорецк\n",
      "... и т.д\n"
     ]
    }
   ],
   "source": [
    "address = df.locality.unique()\n",
    "print(f'Уникальных адресов {len(address)} :\\n',*address[:5],'... и т.д',sep='\\n' )"
   ]
  },
  {
   "cell_type": "code",
   "execution_count": 7,
   "id": "1a2c147a",
   "metadata": {},
   "outputs": [],
   "source": [
    "def get_coordinates(address_localtion : str):\n",
    "    \"\"\"Возвращает координаты адреса\"\"\"\n",
    "    url = 'https://geocode-maps.yandex.ru/1.x/'\n",
    "    latitude, longitude = None, None\n",
    "    \n",
    "    params = {\n",
    "                'geocode': address_localtion,\n",
    "                'format': 'json',\n",
    "                'apikey': API_KEY  \n",
    "              }\n",
    "    try:\n",
    "        response = requests.get(url, params=params)\n",
    "        response.raise_for_status()\n",
    "        data = response.json()\n",
    "        coordinates = data['response']['GeoObjectCollection']['featureMember'][0]['GeoObject']['Point']['pos']\n",
    "        longitude, latitude = map(float, coordinates.split())\n",
    "        return latitude, longitude\n",
    "    except requests.exceptions.RequestException as e:\n",
    "        \n",
    "        print(f\"An error occurred: {e}\")\n",
    "        pass # TODO написать логирвание ошибок\n"
   ]
  },
  {
   "cell_type": "code",
   "execution_count": 8,
   "id": "687dd230",
   "metadata": {},
   "outputs": [
    {
     "name": "stderr",
     "output_type": "stream",
     "text": [
      "100%|████████████████████████████████████████████████████████████████████████████████| 360/360 [01:02<00:00,  5.74it/s]\n"
     ]
    }
   ],
   "source": [
    "coordinates = [get_coordinates(name) for name in tqdm(address)]"
   ]
  },
  {
   "cell_type": "code",
   "execution_count": 9,
   "id": "de259f3c",
   "metadata": {},
   "outputs": [],
   "source": [
    "location = dict(zip(address, coordinates))\n",
    "try:\n",
    "    df.insert(5,'coordinate',df.locality.map(location))  \n",
    "except ValueError as ex:\n",
    "    print(\"df['coordinate'] уже добавили\")"
   ]
  },
  {
   "cell_type": "code",
   "execution_count": 10,
   "id": "efb74470",
   "metadata": {},
   "outputs": [
    {
     "data": {
      "text/html": [
       "<div>\n",
       "<style scoped>\n",
       "    .dataframe tbody tr th:only-of-type {\n",
       "        vertical-align: middle;\n",
       "    }\n",
       "\n",
       "    .dataframe tbody tr th {\n",
       "        vertical-align: top;\n",
       "    }\n",
       "\n",
       "    .dataframe thead th {\n",
       "        text-align: right;\n",
       "    }\n",
       "</style>\n",
       "<table border=\"1\" class=\"dataframe\">\n",
       "  <thead>\n",
       "    <tr style=\"text-align: right;\">\n",
       "      <th></th>\n",
       "      <th>sap</th>\n",
       "      <th>employee</th>\n",
       "      <th>cashier</th>\n",
       "      <th>locality</th>\n",
       "      <th>area</th>\n",
       "      <th>coordinate</th>\n",
       "      <th>night_acceptance</th>\n",
       "      <th>night_display</th>\n",
       "      <th>cash_desks</th>\n",
       "      <th>store_concept</th>\n",
       "      <th>tobacco_shop</th>\n",
       "      <th>dominators</th>\n",
       "      <th>universal_assortment</th>\n",
       "    </tr>\n",
       "  </thead>\n",
       "  <tbody>\n",
       "    <tr>\n",
       "      <th>0</th>\n",
       "      <td>c7cfd542-9765-bd92-0240-ecb7fcd8452e</td>\n",
       "      <td>0.326531</td>\n",
       "      <td>0.342857</td>\n",
       "      <td>Санкт-Петербург</td>\n",
       "      <td>0.338849</td>\n",
       "      <td>(59.938955, 30.315644)</td>\n",
       "      <td>1</td>\n",
       "      <td>1</td>\n",
       "      <td>0.357143</td>\n",
       "      <td>1</td>\n",
       "      <td>0.454545</td>\n",
       "      <td>1</td>\n",
       "      <td>0.523810</td>\n",
       "    </tr>\n",
       "    <tr>\n",
       "      <th>1</th>\n",
       "      <td>35373725-79f5-c17d-8c63-d347d20bf0a1</td>\n",
       "      <td>0.265306</td>\n",
       "      <td>0.057143</td>\n",
       "      <td>Коммунар</td>\n",
       "      <td>0.320144</td>\n",
       "      <td>(59.621609, 30.393483)</td>\n",
       "      <td>1</td>\n",
       "      <td>0</td>\n",
       "      <td>0.214286</td>\n",
       "      <td>1</td>\n",
       "      <td>0.181818</td>\n",
       "      <td>1</td>\n",
       "      <td>0.285714</td>\n",
       "    </tr>\n",
       "    <tr>\n",
       "      <th>2</th>\n",
       "      <td>35e29d3a-bdca-a913-d54d-5da0fb69aa29</td>\n",
       "      <td>0.734694</td>\n",
       "      <td>0.200000</td>\n",
       "      <td>Санкт-Петербург</td>\n",
       "      <td>0.722302</td>\n",
       "      <td>(59.938955, 30.315644)</td>\n",
       "      <td>1</td>\n",
       "      <td>1</td>\n",
       "      <td>0.500000</td>\n",
       "      <td>1</td>\n",
       "      <td>0.090909</td>\n",
       "      <td>1</td>\n",
       "      <td>0.761905</td>\n",
       "    </tr>\n",
       "  </tbody>\n",
       "</table>\n",
       "</div>"
      ],
      "text/plain": [
       "                                    sap  employee   cashier         locality  \\\n",
       "0  c7cfd542-9765-bd92-0240-ecb7fcd8452e  0.326531  0.342857  Санкт-Петербург   \n",
       "1  35373725-79f5-c17d-8c63-d347d20bf0a1  0.265306  0.057143         Коммунар   \n",
       "2  35e29d3a-bdca-a913-d54d-5da0fb69aa29  0.734694  0.200000  Санкт-Петербург   \n",
       "\n",
       "       area              coordinate  night_acceptance  night_display  \\\n",
       "0  0.338849  (59.938955, 30.315644)                 1              1   \n",
       "1  0.320144  (59.621609, 30.393483)                 1              0   \n",
       "2  0.722302  (59.938955, 30.315644)                 1              1   \n",
       "\n",
       "   cash_desks  store_concept  tobacco_shop  dominators  universal_assortment  \n",
       "0    0.357143              1      0.454545           1              0.523810  \n",
       "1    0.214286              1      0.181818           1              0.285714  \n",
       "2    0.500000              1      0.090909           1              0.761905  "
      ]
     },
     "execution_count": 10,
     "metadata": {},
     "output_type": "execute_result"
    }
   ],
   "source": [
    "df.head(3)"
   ]
  },
  {
   "cell_type": "code",
   "execution_count": 11,
   "id": "48cd10ab",
   "metadata": {},
   "outputs": [],
   "source": [
    "df.to_csv('data/preprocessed/actual__preprocessed.csv',index = False)\n",
    "del df "
   ]
  },
  {
   "cell_type": "markdown",
   "id": "1f6ebb58",
   "metadata": {},
   "source": [
    "<a id='assortiment_market'></a>\n",
    "\n",
    "### Обработка продаж по ассортиментам"
   ]
  },
  {
   "cell_type": "code",
   "execution_count": 12,
   "id": "3fb2c9b4",
   "metadata": {},
   "outputs": [],
   "source": [
    "df = pd.read_csv('data/2.type_meal_sells.csv')\n",
    "del df['Магазин']\n",
    "\n",
    "new_id.get_uuid(df['sap'])\n",
    "df['sap'] = df['sap'].map(new_id.uuid_dict)"
   ]
  },
  {
   "cell_type": "markdown",
   "id": "62af5b00",
   "metadata": {},
   "source": [
    "<code>dateutil.parser</code> хорошо работает на английском. Он используется для автоматического определения времени и даты <code>datetime</code> независимо от формата."
   ]
  },
  {
   "cell_type": "code",
   "execution_count": 13,
   "id": "e46385f4",
   "metadata": {},
   "outputs": [],
   "source": [
    "months_rus = ['НОЯ', 'ДЕК','ЯНВ', 'ФЕВ', 'МАР', 'АПР',\n",
    "              'МАЙ', 'ИЮН','ИЮЛ', 'АВГ', 'СЕН', 'ОКТ']\n",
    "months_eng = ['NOV','DEC','JAN','FEB','MAR','APR',\n",
    "              'MAY','JUN','JUL','AUG','SEP','OCT',]\n",
    "\n",
    "month = dict(zip(months_rus,months_eng))\n",
    "new_months = [parser.parse(month[m[:3]] + m[3:], dayfirst=False).strftime('%Y-%m') for m in df.columns[3:]]"
   ]
  },
  {
   "cell_type": "code",
   "execution_count": 14,
   "id": "682e124e",
   "metadata": {
    "scrolled": true
   },
   "outputs": [],
   "source": [
    "new_columns = ['sap','type_meal'] + new_months\n",
    "df = df.rename(columns=dict(zip(df.columns,new_columns)))"
   ]
  },
  {
   "cell_type": "markdown",
   "id": "e493f821",
   "metadata": {},
   "source": [
    "Нормализуем значения временных рядов"
   ]
  },
  {
   "cell_type": "code",
   "execution_count": 15,
   "id": "0130d016",
   "metadata": {},
   "outputs": [],
   "source": [
    "for col_name in df.columns[2:]:\n",
    "    df[col_name] = minmax(df[col_name], x_min = MIN, x_max = MAX)"
   ]
  },
  {
   "cell_type": "code",
   "execution_count": 16,
   "id": "e1ab488d",
   "metadata": {
    "scrolled": true
   },
   "outputs": [
    {
     "data": {
      "text/html": [
       "<div>\n",
       "<style scoped>\n",
       "    .dataframe tbody tr th:only-of-type {\n",
       "        vertical-align: middle;\n",
       "    }\n",
       "\n",
       "    .dataframe tbody tr th {\n",
       "        vertical-align: top;\n",
       "    }\n",
       "\n",
       "    .dataframe thead th {\n",
       "        text-align: right;\n",
       "    }\n",
       "</style>\n",
       "<table border=\"1\" class=\"dataframe\">\n",
       "  <thead>\n",
       "    <tr style=\"text-align: right;\">\n",
       "      <th></th>\n",
       "      <th>sap</th>\n",
       "      <th>type_meal</th>\n",
       "      <th>2019-12</th>\n",
       "      <th>2020-01</th>\n",
       "      <th>2020-02</th>\n",
       "      <th>2020-03</th>\n",
       "      <th>2020-04</th>\n",
       "      <th>2020-05</th>\n",
       "      <th>2020-06</th>\n",
       "      <th>2020-07</th>\n",
       "      <th>...</th>\n",
       "      <th>2020-11</th>\n",
       "      <th>2020-12</th>\n",
       "      <th>2021-01</th>\n",
       "      <th>2021-02</th>\n",
       "      <th>2021-03</th>\n",
       "      <th>2021-04</th>\n",
       "      <th>2021-05</th>\n",
       "      <th>2021-06</th>\n",
       "      <th>2021-07</th>\n",
       "      <th>ИЮЛ 2021</th>\n",
       "    </tr>\n",
       "  </thead>\n",
       "  <tbody>\n",
       "    <tr>\n",
       "      <th>0</th>\n",
       "      <td>045af141-72d1-3163-f9ef-cea8af3547fb</td>\n",
       "      <td>Овощи/Грибы</td>\n",
       "      <td>0.092780</td>\n",
       "      <td>0.089454</td>\n",
       "      <td>0.098488</td>\n",
       "      <td>0.100432</td>\n",
       "      <td>0.137098</td>\n",
       "      <td>0.116499</td>\n",
       "      <td>0.108158</td>\n",
       "      <td>0.116955</td>\n",
       "      <td>...</td>\n",
       "      <td>0.078114</td>\n",
       "      <td>0.103932</td>\n",
       "      <td>0.107777</td>\n",
       "      <td>0.107881</td>\n",
       "      <td>0.117877</td>\n",
       "      <td>0.105708</td>\n",
       "      <td>0.108041</td>\n",
       "      <td>0.132824</td>\n",
       "      <td>0.132424</td>\n",
       "      <td>0.109873</td>\n",
       "    </tr>\n",
       "    <tr>\n",
       "      <th>1</th>\n",
       "      <td>045af141-72d1-3163-f9ef-cea8af3547fb</td>\n",
       "      <td>Овощи/Зелень</td>\n",
       "      <td>0.058501</td>\n",
       "      <td>0.062190</td>\n",
       "      <td>0.068631</td>\n",
       "      <td>0.067251</td>\n",
       "      <td>0.095278</td>\n",
       "      <td>0.090512</td>\n",
       "      <td>0.068993</td>\n",
       "      <td>0.075536</td>\n",
       "      <td>...</td>\n",
       "      <td>0.060752</td>\n",
       "      <td>0.073966</td>\n",
       "      <td>0.077267</td>\n",
       "      <td>0.085635</td>\n",
       "      <td>0.083643</td>\n",
       "      <td>0.089196</td>\n",
       "      <td>0.086589</td>\n",
       "      <td>0.079528</td>\n",
       "      <td>0.077316</td>\n",
       "      <td>0.107070</td>\n",
       "    </tr>\n",
       "    <tr>\n",
       "      <th>2</th>\n",
       "      <td>045af141-72d1-3163-f9ef-cea8af3547fb</td>\n",
       "      <td>Фрукты/Экзотика</td>\n",
       "      <td>0.090461</td>\n",
       "      <td>0.115416</td>\n",
       "      <td>0.093577</td>\n",
       "      <td>0.087794</td>\n",
       "      <td>0.090266</td>\n",
       "      <td>0.084540</td>\n",
       "      <td>0.054202</td>\n",
       "      <td>0.051428</td>\n",
       "      <td>...</td>\n",
       "      <td>0.123896</td>\n",
       "      <td>0.111636</td>\n",
       "      <td>0.124712</td>\n",
       "      <td>0.110958</td>\n",
       "      <td>0.094535</td>\n",
       "      <td>0.075565</td>\n",
       "      <td>0.057278</td>\n",
       "      <td>0.043437</td>\n",
       "      <td>0.043367</td>\n",
       "      <td>0.085383</td>\n",
       "    </tr>\n",
       "  </tbody>\n",
       "</table>\n",
       "<p>3 rows × 23 columns</p>\n",
       "</div>"
      ],
      "text/plain": [
       "                                    sap        type_meal   2019-12   2020-01  \\\n",
       "0  045af141-72d1-3163-f9ef-cea8af3547fb      Овощи/Грибы  0.092780  0.089454   \n",
       "1  045af141-72d1-3163-f9ef-cea8af3547fb     Овощи/Зелень  0.058501  0.062190   \n",
       "2  045af141-72d1-3163-f9ef-cea8af3547fb  Фрукты/Экзотика  0.090461  0.115416   \n",
       "\n",
       "    2020-02   2020-03   2020-04   2020-05   2020-06   2020-07  ...   2020-11  \\\n",
       "0  0.098488  0.100432  0.137098  0.116499  0.108158  0.116955  ...  0.078114   \n",
       "1  0.068631  0.067251  0.095278  0.090512  0.068993  0.075536  ...  0.060752   \n",
       "2  0.093577  0.087794  0.090266  0.084540  0.054202  0.051428  ...  0.123896   \n",
       "\n",
       "    2020-12   2021-01   2021-02   2021-03   2021-04   2021-05   2021-06  \\\n",
       "0  0.103932  0.107777  0.107881  0.117877  0.105708  0.108041  0.132824   \n",
       "1  0.073966  0.077267  0.085635  0.083643  0.089196  0.086589  0.079528   \n",
       "2  0.111636  0.124712  0.110958  0.094535  0.075565  0.057278  0.043437   \n",
       "\n",
       "    2021-07  ИЮЛ 2021  \n",
       "0  0.132424  0.109873  \n",
       "1  0.077316  0.107070  \n",
       "2  0.043367  0.085383  \n",
       "\n",
       "[3 rows x 23 columns]"
      ]
     },
     "execution_count": 16,
     "metadata": {},
     "output_type": "execute_result"
    }
   ],
   "source": [
    "df.head(3)"
   ]
  },
  {
   "cell_type": "code",
   "execution_count": 17,
   "id": "dd546bcc",
   "metadata": {},
   "outputs": [],
   "source": [
    "df.to_csv('data/preprocessed/type_meal__preprocessed.csv', index = False)\n",
    "del df"
   ]
  },
  {
   "cell_type": "markdown",
   "id": "a75b504a",
   "metadata": {},
   "source": [
    "<a id='rto'></a>\n",
    "### Обработка рознично-торгового оборота"
   ]
  },
  {
   "cell_type": "code",
   "execution_count": 18,
   "id": "ec29d0eb",
   "metadata": {},
   "outputs": [],
   "source": [
    "df = pd.read_csv('data/3.retail_turnover.csv')\n",
    "del df['Упр. Кластер (НА)']\n",
    "del df['Дата открытия']\n",
    "del df['Дата закрытия|Календарный день']\n"
   ]
  },
  {
   "cell_type": "code",
   "execution_count": 19,
   "id": "e8ba5220",
   "metadata": {},
   "outputs": [],
   "source": [
    "df = df.rename(columns={'ЦФО (НА)':'sap'})\n",
    "df['sap'] = df['sap'].map(lambda x :x[4:])\n",
    "\n",
    "new_id.get_uuid(df['sap'])\n",
    "df['sap'] = df['sap'].map(new_id.uuid_dict)"
   ]
  },
  {
   "cell_type": "markdown",
   "id": "eef6bc65",
   "metadata": {},
   "source": [
    "Нормализуем значения временных рядов"
   ]
  },
  {
   "cell_type": "code",
   "execution_count": 20,
   "id": "54805eb7",
   "metadata": {},
   "outputs": [],
   "source": [
    "for col_name in df.columns[1:]:\n",
    "    df[col_name] = minmax(df[col_name], x_min = MIN, x_max = MAX)"
   ]
  },
  {
   "cell_type": "code",
   "execution_count": 21,
   "id": "87ca6dd9",
   "metadata": {},
   "outputs": [
    {
     "data": {
      "text/html": [
       "<div>\n",
       "<style scoped>\n",
       "    .dataframe tbody tr th:only-of-type {\n",
       "        vertical-align: middle;\n",
       "    }\n",
       "\n",
       "    .dataframe tbody tr th {\n",
       "        vertical-align: top;\n",
       "    }\n",
       "\n",
       "    .dataframe thead th {\n",
       "        text-align: right;\n",
       "    }\n",
       "</style>\n",
       "<table border=\"1\" class=\"dataframe\">\n",
       "  <thead>\n",
       "    <tr style=\"text-align: right;\">\n",
       "      <th></th>\n",
       "      <th>sap</th>\n",
       "      <th>01.07.2018</th>\n",
       "      <th>02.07.2018</th>\n",
       "      <th>03.07.2018</th>\n",
       "      <th>04.07.2018</th>\n",
       "      <th>05.07.2018</th>\n",
       "      <th>06.07.2018</th>\n",
       "      <th>07.07.2018</th>\n",
       "      <th>08.07.2018</th>\n",
       "      <th>09.07.2018</th>\n",
       "      <th>...</th>\n",
       "      <th>21.06.2021</th>\n",
       "      <th>22.06.2021</th>\n",
       "      <th>23.06.2021</th>\n",
       "      <th>24.06.2021</th>\n",
       "      <th>25.06.2021</th>\n",
       "      <th>26.06.2021</th>\n",
       "      <th>27.06.2021</th>\n",
       "      <th>28.06.2021</th>\n",
       "      <th>29.06.2021</th>\n",
       "      <th>30.06.2021</th>\n",
       "    </tr>\n",
       "  </thead>\n",
       "  <tbody>\n",
       "    <tr>\n",
       "      <th>0</th>\n",
       "      <td>c3d9a2f4-fd5a-234f-cf06-daa84cb126cb</td>\n",
       "      <td>0.258308</td>\n",
       "      <td>0.288219</td>\n",
       "      <td>0.308172</td>\n",
       "      <td>0.258617</td>\n",
       "      <td>0.302047</td>\n",
       "      <td>0.286274</td>\n",
       "      <td>0.262396</td>\n",
       "      <td>0.248024</td>\n",
       "      <td>0.267803</td>\n",
       "      <td>...</td>\n",
       "      <td>0.218839</td>\n",
       "      <td>0.217433</td>\n",
       "      <td>0.249612</td>\n",
       "      <td>0.249087</td>\n",
       "      <td>0.221760</td>\n",
       "      <td>0.143271</td>\n",
       "      <td>0.225221</td>\n",
       "      <td>0.246808</td>\n",
       "      <td>0.233346</td>\n",
       "      <td>0.297213</td>\n",
       "    </tr>\n",
       "    <tr>\n",
       "      <th>1</th>\n",
       "      <td>35d47589-95e2-d4b8-92bf-fb11011bf564</td>\n",
       "      <td>0.318323</td>\n",
       "      <td>0.219351</td>\n",
       "      <td>0.241947</td>\n",
       "      <td>0.239500</td>\n",
       "      <td>0.273389</td>\n",
       "      <td>0.255926</td>\n",
       "      <td>0.295464</td>\n",
       "      <td>0.365969</td>\n",
       "      <td>0.212947</td>\n",
       "      <td>...</td>\n",
       "      <td>0.267301</td>\n",
       "      <td>0.276723</td>\n",
       "      <td>0.288704</td>\n",
       "      <td>0.295780</td>\n",
       "      <td>0.273941</td>\n",
       "      <td>0.232721</td>\n",
       "      <td>0.326351</td>\n",
       "      <td>0.287766</td>\n",
       "      <td>0.301064</td>\n",
       "      <td>0.316988</td>\n",
       "    </tr>\n",
       "  </tbody>\n",
       "</table>\n",
       "<p>2 rows × 1097 columns</p>\n",
       "</div>"
      ],
      "text/plain": [
       "                                    sap  01.07.2018  02.07.2018  03.07.2018  \\\n",
       "0  c3d9a2f4-fd5a-234f-cf06-daa84cb126cb    0.258308    0.288219    0.308172   \n",
       "1  35d47589-95e2-d4b8-92bf-fb11011bf564    0.318323    0.219351    0.241947   \n",
       "\n",
       "   04.07.2018  05.07.2018  06.07.2018  07.07.2018  08.07.2018  09.07.2018  \\\n",
       "0    0.258617    0.302047    0.286274    0.262396    0.248024    0.267803   \n",
       "1    0.239500    0.273389    0.255926    0.295464    0.365969    0.212947   \n",
       "\n",
       "   ...  21.06.2021  22.06.2021  23.06.2021  24.06.2021  25.06.2021  \\\n",
       "0  ...    0.218839    0.217433    0.249612    0.249087    0.221760   \n",
       "1  ...    0.267301    0.276723    0.288704    0.295780    0.273941   \n",
       "\n",
       "   26.06.2021  27.06.2021  28.06.2021  29.06.2021  30.06.2021  \n",
       "0    0.143271    0.225221    0.246808    0.233346    0.297213  \n",
       "1    0.232721    0.326351    0.287766    0.301064    0.316988  \n",
       "\n",
       "[2 rows x 1097 columns]"
      ]
     },
     "execution_count": 21,
     "metadata": {},
     "output_type": "execute_result"
    }
   ],
   "source": [
    "df.head(2)"
   ]
  },
  {
   "cell_type": "code",
   "execution_count": 22,
   "id": "7297c808",
   "metadata": {},
   "outputs": [],
   "source": [
    "df.to_csv('data/preprocessed/retail_turnover__preprocessed.csv',index = False)\n",
    "del df "
   ]
  },
  {
   "cell_type": "markdown",
   "id": "8b1ec9d2",
   "metadata": {},
   "source": [
    "<a id='alcohol'></a>\n",
    "### Продажа алкоголя"
   ]
  },
  {
   "cell_type": "code",
   "execution_count": 23,
   "id": "f68e342b",
   "metadata": {},
   "outputs": [],
   "source": [
    "df = pd.read_csv('data/4.alcohol_sells.csv')\n",
    "del df['Упр. Кластер (НА)']"
   ]
  },
  {
   "cell_type": "code",
   "execution_count": 24,
   "id": "95e0865a",
   "metadata": {},
   "outputs": [],
   "source": [
    "new_months = [parser.parse(month[m[:3]] + m[3:], dayfirst=False).strftime('%Y-%m') for m in df.columns[1:]]\n",
    "new_columns = ['sap'] + new_months\n",
    "df = df.rename(columns=dict(zip(df.columns,new_columns)))\n",
    "\n",
    "new_id.get_uuid(df['sap'])\n",
    "df['sap'] = df['sap'].map(new_id.uuid_dict)"
   ]
  },
  {
   "cell_type": "code",
   "execution_count": 25,
   "id": "7e87ba10",
   "metadata": {},
   "outputs": [
    {
     "name": "stdout",
     "output_type": "stream",
     "text": [
      "Количество id:  2851\n"
     ]
    }
   ],
   "source": [
    "new_id.show()"
   ]
  },
  {
   "cell_type": "markdown",
   "id": "ed185cdb",
   "metadata": {},
   "source": [
    "Нормализуем значения временных рядов"
   ]
  },
  {
   "cell_type": "code",
   "execution_count": 26,
   "id": "17c9658a",
   "metadata": {},
   "outputs": [],
   "source": [
    "for col_name in df.columns[1:]:\n",
    "    df[col_name] = minmax(df[col_name],x_min = MIN, x_max = MAX)"
   ]
  },
  {
   "cell_type": "code",
   "execution_count": 27,
   "id": "3daba878",
   "metadata": {},
   "outputs": [
    {
     "data": {
      "text/html": [
       "<div>\n",
       "<style scoped>\n",
       "    .dataframe tbody tr th:only-of-type {\n",
       "        vertical-align: middle;\n",
       "    }\n",
       "\n",
       "    .dataframe tbody tr th {\n",
       "        vertical-align: top;\n",
       "    }\n",
       "\n",
       "    .dataframe thead th {\n",
       "        text-align: right;\n",
       "    }\n",
       "</style>\n",
       "<table border=\"1\" class=\"dataframe\">\n",
       "  <thead>\n",
       "    <tr style=\"text-align: right;\">\n",
       "      <th></th>\n",
       "      <th>sap</th>\n",
       "      <th>2019-01</th>\n",
       "      <th>2019-02</th>\n",
       "      <th>2019-03</th>\n",
       "      <th>2019-04</th>\n",
       "      <th>2019-05</th>\n",
       "      <th>2019-06</th>\n",
       "      <th>2019-07</th>\n",
       "      <th>2019-08</th>\n",
       "      <th>2019-09</th>\n",
       "      <th>...</th>\n",
       "      <th>2020-10</th>\n",
       "      <th>2020-11</th>\n",
       "      <th>2020-12</th>\n",
       "      <th>2021-01</th>\n",
       "      <th>2021-02</th>\n",
       "      <th>2021-03</th>\n",
       "      <th>2021-04</th>\n",
       "      <th>2021-05</th>\n",
       "      <th>2021-06</th>\n",
       "      <th>2021-07</th>\n",
       "    </tr>\n",
       "  </thead>\n",
       "  <tbody>\n",
       "    <tr>\n",
       "      <th>0</th>\n",
       "      <td>045af141-72d1-3163-f9ef-cea8af3547fb</td>\n",
       "      <td>0.175942</td>\n",
       "      <td>0.165586</td>\n",
       "      <td>0.168935</td>\n",
       "      <td>0.161475</td>\n",
       "      <td>0.193564</td>\n",
       "      <td>0.176264</td>\n",
       "      <td>0.154633</td>\n",
       "      <td>0.162216</td>\n",
       "      <td>0.173108</td>\n",
       "      <td>...</td>\n",
       "      <td>0.171533</td>\n",
       "      <td>0.174348</td>\n",
       "      <td>0.185261</td>\n",
       "      <td>0.190989</td>\n",
       "      <td>0.191204</td>\n",
       "      <td>0.179692</td>\n",
       "      <td>0.181616</td>\n",
       "      <td>0.144125</td>\n",
       "      <td>0.127334</td>\n",
       "      <td>0.120985</td>\n",
       "    </tr>\n",
       "    <tr>\n",
       "      <th>1</th>\n",
       "      <td>587a9668-3c38-455d-e5fb-efd5ce206d07</td>\n",
       "      <td>0.098581</td>\n",
       "      <td>0.103458</td>\n",
       "      <td>0.118818</td>\n",
       "      <td>0.116952</td>\n",
       "      <td>0.133351</td>\n",
       "      <td>0.138954</td>\n",
       "      <td>0.147771</td>\n",
       "      <td>0.137995</td>\n",
       "      <td>0.142700</td>\n",
       "      <td>...</td>\n",
       "      <td>0.098157</td>\n",
       "      <td>0.087995</td>\n",
       "      <td>0.076986</td>\n",
       "      <td>0.087191</td>\n",
       "      <td>0.084932</td>\n",
       "      <td>0.084825</td>\n",
       "      <td>0.081750</td>\n",
       "      <td>0.079863</td>\n",
       "      <td>0.075408</td>\n",
       "      <td>0.066010</td>\n",
       "    </tr>\n",
       "  </tbody>\n",
       "</table>\n",
       "<p>2 rows × 32 columns</p>\n",
       "</div>"
      ],
      "text/plain": [
       "                                    sap   2019-01   2019-02   2019-03  \\\n",
       "0  045af141-72d1-3163-f9ef-cea8af3547fb  0.175942  0.165586  0.168935   \n",
       "1  587a9668-3c38-455d-e5fb-efd5ce206d07  0.098581  0.103458  0.118818   \n",
       "\n",
       "    2019-04   2019-05   2019-06   2019-07   2019-08   2019-09  ...   2020-10  \\\n",
       "0  0.161475  0.193564  0.176264  0.154633  0.162216  0.173108  ...  0.171533   \n",
       "1  0.116952  0.133351  0.138954  0.147771  0.137995  0.142700  ...  0.098157   \n",
       "\n",
       "    2020-11   2020-12   2021-01   2021-02   2021-03   2021-04   2021-05  \\\n",
       "0  0.174348  0.185261  0.190989  0.191204  0.179692  0.181616  0.144125   \n",
       "1  0.087995  0.076986  0.087191  0.084932  0.084825  0.081750  0.079863   \n",
       "\n",
       "    2021-06   2021-07  \n",
       "0  0.127334  0.120985  \n",
       "1  0.075408  0.066010  \n",
       "\n",
       "[2 rows x 32 columns]"
      ]
     },
     "execution_count": 27,
     "metadata": {},
     "output_type": "execute_result"
    }
   ],
   "source": [
    "df.head(2)"
   ]
  },
  {
   "cell_type": "code",
   "execution_count": 28,
   "id": "d0fc4e8c",
   "metadata": {},
   "outputs": [],
   "source": [
    "df.to_csv('data/preprocessed/aclohol__preprocessed.csv',index = False)\n",
    "del df"
   ]
  }
 ],
 "metadata": {
  "kernelspec": {
   "display_name": "Python 3 (ipykernel)",
   "language": "python",
   "name": "python3"
  },
  "language_info": {
   "codemirror_mode": {
    "name": "ipython",
    "version": 3
   },
   "file_extension": ".py",
   "mimetype": "text/x-python",
   "name": "python",
   "nbconvert_exporter": "python",
   "pygments_lexer": "ipython3",
   "version": "3.9.13"
  },
  "varInspector": {
   "cols": {
    "lenName": 16,
    "lenType": 16,
    "lenVar": 40
   },
   "kernels_config": {
    "python": {
     "delete_cmd_postfix": "",
     "delete_cmd_prefix": "del ",
     "library": "var_list.py",
     "varRefreshCmd": "print(var_dic_list())"
    },
    "r": {
     "delete_cmd_postfix": ") ",
     "delete_cmd_prefix": "rm(",
     "library": "var_list.r",
     "varRefreshCmd": "cat(var_dic_list()) "
    }
   },
   "types_to_exclude": [
    "module",
    "function",
    "builtin_function_or_method",
    "instance",
    "_Feature"
   ],
   "window_display": false
  }
 },
 "nbformat": 4,
 "nbformat_minor": 5
}
